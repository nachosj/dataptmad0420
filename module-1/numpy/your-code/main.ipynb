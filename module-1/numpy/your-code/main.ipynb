{
 "cells": [
  {
   "cell_type": "markdown",
   "metadata": {},
   "source": [
    "# Introduction to NumPy\n",
    "\n",
    "\n",
    "#### 1. Import NumPy under the name np."
   ]
  },
  {
   "cell_type": "code",
   "execution_count": 2,
   "metadata": {},
   "outputs": [],
   "source": [
    "# your code here\n",
    "import numpy as np"
   ]
  },
  {
   "cell_type": "code",
   "execution_count": null,
   "metadata": {},
   "outputs": [],
   "source": [
    "#### 2. Print your NumPy version."
   ]
  },
  {
   "cell_type": "code",
   "execution_count": 3,
   "metadata": {},
   "outputs": [
    {
     "name": "stdout",
     "output_type": "stream",
     "text": [
      "1.18.1\n"
     ]
    }
   ],
   "source": [
    "# your code here\n",
    "print(np.__version__)"
   ]
  },
  {
   "cell_type": "markdown",
   "metadata": {},
   "source": [
    "#### 3. Generate a 2x3x5 3-dimensional array with random values. Assign the array to variable *a*.\n",
    "**Challenge**: there are at least three easy ways that use numpy to generate random arrays. How many ways can you find?"
   ]
  },
  {
   "cell_type": "code",
   "execution_count": 4,
   "metadata": {},
   "outputs": [],
   "source": [
    "# Method 1\n",
    "a = np.random.random((2,3,5))"
   ]
  },
  {
   "cell_type": "code",
   "execution_count": 16,
   "metadata": {},
   "outputs": [],
   "source": [
    "# Method 2\n"
   ]
  },
  {
   "cell_type": "code",
   "execution_count": 5,
   "metadata": {},
   "outputs": [],
   "source": [
    "# Method 3\n"
   ]
  },
  {
   "cell_type": "markdown",
   "metadata": {},
   "source": [
    "#### 4. Print *a*.\n"
   ]
  },
  {
   "cell_type": "code",
   "execution_count": 17,
   "metadata": {},
   "outputs": [
    {
     "name": "stdout",
     "output_type": "stream",
     "text": [
      "[[[0.99961226 0.67424741 0.24810034 0.23236524 0.79262739]\n",
      "  [0.81970048 0.63266156 0.73018157 0.21600554 0.24787835]\n",
      "  [0.45997558 0.6309011  0.88536175 0.74602599 0.40437874]]\n",
      "\n",
      " [[0.43467705 0.65209001 0.92625854 0.98359095 0.17607249]\n",
      "  [0.25513961 0.10318102 0.27039488 0.55184285 0.795399  ]\n",
      "  [0.27186132 0.51077519 0.75797655 0.82511416 0.98780916]]]\n"
     ]
    }
   ],
   "source": [
    "# your code here\n",
    "print(a)"
   ]
  },
  {
   "cell_type": "markdown",
   "metadata": {},
   "source": [
    "#### 5. Create a 5x2x3 3-dimensional array with all values equaling 1. Assign the array to variable *b*."
   ]
  },
  {
   "cell_type": "code",
   "execution_count": 18,
   "metadata": {},
   "outputs": [],
   "source": [
    "# your code here\n",
    "b = np.ones((5,2,3))"
   ]
  },
  {
   "cell_type": "markdown",
   "metadata": {},
   "source": [
    "#### 6. Print *b*.\n"
   ]
  },
  {
   "cell_type": "code",
   "execution_count": 19,
   "metadata": {},
   "outputs": [
    {
     "name": "stdout",
     "output_type": "stream",
     "text": [
      "[[[1. 1. 1.]\n",
      "  [1. 1. 1.]]\n",
      "\n",
      " [[1. 1. 1.]\n",
      "  [1. 1. 1.]]\n",
      "\n",
      " [[1. 1. 1.]\n",
      "  [1. 1. 1.]]\n",
      "\n",
      " [[1. 1. 1.]\n",
      "  [1. 1. 1.]]\n",
      "\n",
      " [[1. 1. 1.]\n",
      "  [1. 1. 1.]]]\n"
     ]
    }
   ],
   "source": [
    "# your code here\n",
    "print(b)"
   ]
  },
  {
   "cell_type": "markdown",
   "metadata": {},
   "source": [
    "#### 7. Do *a* and *b* have the same size? How do you prove that in Python code?"
   ]
  },
  {
   "cell_type": "code",
   "execution_count": 20,
   "metadata": {},
   "outputs": [
    {
     "data": {
      "text/plain": [
       "True"
      ]
     },
     "execution_count": 20,
     "metadata": {},
     "output_type": "execute_result"
    }
   ],
   "source": [
    "# your code here\n",
    "\n",
    "a.size==b.size"
   ]
  },
  {
   "cell_type": "markdown",
   "metadata": {},
   "source": [
    "#### 8. Are you able to add *a* and *b*? Why or why not?\n"
   ]
  },
  {
   "cell_type": "code",
   "execution_count": 16,
   "metadata": {},
   "outputs": [
    {
     "ename": "TypeError",
     "evalue": "'numpy.ufunc' object is not subscriptable",
     "output_type": "error",
     "traceback": [
      "\u001b[0;31m---------------------------------------------------------------------------\u001b[0m",
      "\u001b[0;31mTypeError\u001b[0m                                 Traceback (most recent call last)",
      "\u001b[0;32m<ipython-input-16-2eb3166b4918>\u001b[0m in \u001b[0;36m<module>\u001b[0;34m\u001b[0m\n\u001b[1;32m      1\u001b[0m \u001b[0;31m# your answer here\u001b[0m\u001b[0;34m\u001b[0m\u001b[0;34m\u001b[0m\u001b[0;34m\u001b[0m\u001b[0m\n\u001b[0;32m----> 2\u001b[0;31m \u001b[0mnp\u001b[0m\u001b[0;34m.\u001b[0m\u001b[0madd\u001b[0m\u001b[0;34m[\u001b[0m\u001b[0ma\u001b[0m\u001b[0;34m,\u001b[0m\u001b[0mb\u001b[0m\u001b[0;34m]\u001b[0m\u001b[0;34m\u001b[0m\u001b[0;34m\u001b[0m\u001b[0m\n\u001b[0m\u001b[1;32m      3\u001b[0m \u001b[0;31m#it's not possible because they have the same shape and the axis doesn't match\u001b[0m\u001b[0;34m\u001b[0m\u001b[0;34m\u001b[0m\u001b[0;34m\u001b[0m\u001b[0m\n",
      "\u001b[0;31mTypeError\u001b[0m: 'numpy.ufunc' object is not subscriptable"
     ]
    }
   ],
   "source": [
    "# your answer here\n",
    "np.add[a,b]\n",
    "#it's not possible because they have the same shape and the axis doesn't match"
   ]
  },
  {
   "cell_type": "markdown",
   "metadata": {},
   "source": [
    "#### 9. Transpose *b* so that it has the same structure of *a* (i.e. become a 2x3x5 array). Assign the transposed array to variable *c*."
   ]
  },
  {
   "cell_type": "code",
   "execution_count": 22,
   "metadata": {},
   "outputs": [
    {
     "data": {
      "text/plain": [
       "(2, 3, 5)"
      ]
     },
     "execution_count": 22,
     "metadata": {},
     "output_type": "execute_result"
    }
   ],
   "source": [
    "# your code here\n",
    "c= b.transpose(1,2,0)\n",
    "c.shape"
   ]
  },
  {
   "cell_type": "markdown",
   "metadata": {},
   "source": [
    "#### 10. Try to add *a* and *c*. Now it should work. Assign the sum to variable *d*. But why does it work now?"
   ]
  },
  {
   "cell_type": "code",
   "execution_count": 23,
   "metadata": {},
   "outputs": [
    {
     "data": {
      "text/plain": [
       "array([[[1.99961226, 1.67424741, 1.24810034, 1.23236524, 1.79262739],\n",
       "        [1.81970048, 1.63266156, 1.73018157, 1.21600554, 1.24787835],\n",
       "        [1.45997558, 1.6309011 , 1.88536175, 1.74602599, 1.40437874]],\n",
       "\n",
       "       [[1.43467705, 1.65209001, 1.92625854, 1.98359095, 1.17607249],\n",
       "        [1.25513961, 1.10318102, 1.27039488, 1.55184285, 1.795399  ],\n",
       "        [1.27186132, 1.51077519, 1.75797655, 1.82511416, 1.98780916]]])"
      ]
     },
     "execution_count": 23,
     "metadata": {},
     "output_type": "execute_result"
    }
   ],
   "source": [
    "# your code/answer here\n",
    "d = np.add(a,c)\n",
    "d\n",
    "#because they have the same shape and the axes match"
   ]
  },
  {
   "cell_type": "markdown",
   "metadata": {},
   "source": [
    "#### 11. Print *a* and *d*. Notice the difference and relation of the two array in terms of the values? Explain."
   ]
  },
  {
   "cell_type": "code",
   "execution_count": 24,
   "metadata": {},
   "outputs": [
    {
     "name": "stdout",
     "output_type": "stream",
     "text": [
      "[[[0.99961226 0.67424741 0.24810034 0.23236524 0.79262739]\n",
      "  [0.81970048 0.63266156 0.73018157 0.21600554 0.24787835]\n",
      "  [0.45997558 0.6309011  0.88536175 0.74602599 0.40437874]]\n",
      "\n",
      " [[0.43467705 0.65209001 0.92625854 0.98359095 0.17607249]\n",
      "  [0.25513961 0.10318102 0.27039488 0.55184285 0.795399  ]\n",
      "  [0.27186132 0.51077519 0.75797655 0.82511416 0.98780916]]]\n",
      "\n",
      "\n",
      "[[[1.99961226 1.67424741 1.24810034 1.23236524 1.79262739]\n",
      "  [1.81970048 1.63266156 1.73018157 1.21600554 1.24787835]\n",
      "  [1.45997558 1.6309011  1.88536175 1.74602599 1.40437874]]\n",
      "\n",
      " [[1.43467705 1.65209001 1.92625854 1.98359095 1.17607249]\n",
      "  [1.25513961 1.10318102 1.27039488 1.55184285 1.795399  ]\n",
      "  [1.27186132 1.51077519 1.75797655 1.82511416 1.98780916]]]\n"
     ]
    }
   ],
   "source": [
    "# your code/answer here\n",
    "print(a)\n",
    "print()\n",
    "print()\n",
    "print(d)\n",
    "# \"d\" has been added +1 en every value."
   ]
  },
  {
   "cell_type": "markdown",
   "metadata": {},
   "source": [
    "#### 12. Multiply *a* and *c*. Assign the result to *e*."
   ]
  },
  {
   "cell_type": "code",
   "execution_count": 25,
   "metadata": {},
   "outputs": [
    {
     "data": {
      "text/plain": [
       "array([[[0.99961226, 0.67424741, 0.24810034, 0.23236524, 0.79262739],\n",
       "        [0.81970048, 0.63266156, 0.73018157, 0.21600554, 0.24787835],\n",
       "        [0.45997558, 0.6309011 , 0.88536175, 0.74602599, 0.40437874]],\n",
       "\n",
       "       [[0.43467705, 0.65209001, 0.92625854, 0.98359095, 0.17607249],\n",
       "        [0.25513961, 0.10318102, 0.27039488, 0.55184285, 0.795399  ],\n",
       "        [0.27186132, 0.51077519, 0.75797655, 0.82511416, 0.98780916]]])"
      ]
     },
     "execution_count": 25,
     "metadata": {},
     "output_type": "execute_result"
    }
   ],
   "source": [
    "# your code here\n",
    "e = a*c\n",
    "e"
   ]
  },
  {
   "cell_type": "markdown",
   "metadata": {},
   "source": [
    "#### 13. Does *e* equal to *a*? Why or why not?\n"
   ]
  },
  {
   "cell_type": "code",
   "execution_count": null,
   "metadata": {},
   "outputs": [],
   "source": [
    "# your code/answer here\n",
    "#it's the same because we are multiplying * 1"
   ]
  },
  {
   "cell_type": "markdown",
   "metadata": {},
   "source": [
    "#### 14. Identify the max, min, and mean values in *d*. Assign those values to variables *d_max*, *d_min* and *d_mean*."
   ]
  },
  {
   "cell_type": "code",
   "execution_count": 26,
   "metadata": {},
   "outputs": [
    {
     "name": "stdout",
     "output_type": "stream",
     "text": [
      "1.9996122565440342\n",
      "1.103181021385339\n",
      "1.5740735357494278\n"
     ]
    }
   ],
   "source": [
    "# your code here\n",
    "d_max = np.max(d)\n",
    "print(d_max)\n",
    "d_min = np.min(d)\n",
    "print(d_min)\n",
    "d_mean = np.mean(d)\n",
    "print(d_mean)"
   ]
  },
  {
   "cell_type": "markdown",
   "metadata": {},
   "source": [
    "#### 15. Now we want to label the values in *d*. First create an empty array *f* with the same shape (i.e. 2x3x5) as *d* using `np.empty`.\n"
   ]
  },
  {
   "cell_type": "code",
   "execution_count": 27,
   "metadata": {},
   "outputs": [
    {
     "data": {
      "text/plain": [
       "array([[[0.99961226, 0.67424741, 0.24810034, 0.23236524, 0.79262739],\n",
       "        [0.81970048, 0.63266156, 0.73018157, 0.21600554, 0.24787835],\n",
       "        [0.45997558, 0.6309011 , 0.88536175, 0.74602599, 0.40437874]],\n",
       "\n",
       "       [[0.43467705, 0.65209001, 0.92625854, 0.98359095, 0.17607249],\n",
       "        [0.25513961, 0.10318102, 0.27039488, 0.55184285, 0.795399  ],\n",
       "        [0.27186132, 0.51077519, 0.75797655, 0.82511416, 0.98780916]]])"
      ]
     },
     "execution_count": 27,
     "metadata": {},
     "output_type": "execute_result"
    }
   ],
   "source": [
    "# your code here\n",
    "f = np.empty([2,3,5])\n",
    "f\n"
   ]
  },
  {
   "cell_type": "markdown",
   "metadata": {},
   "source": [
    "#### 16. Populate the values in *f*. \n",
    "\n",
    "For each value in *d*, if it's larger than *d_min* but smaller than *d_mean*, assign 25 to the corresponding value in *f*. If a value in *d* is larger than *d_mean* but smaller than *d_max*, assign 75 to the corresponding value in *f*. If a value equals to *d_mean*, assign 50 to the corresponding value in *f*. Assign 0 to the corresponding value(s) in *f* for *d_min* in *d*. Assign 100 to the corresponding value(s) in *f* for *d_max* in *d*. In the end, f should have only the following values: 0, 25, 50, 75, and 100.\n",
    "\n",
    "**Note**: you don't have to use Numpy in this question."
   ]
  },
  {
   "cell_type": "code",
   "execution_count": 28,
   "metadata": {},
   "outputs": [
    {
     "name": "stdout",
     "output_type": "stream",
     "text": [
      "[[[1.99961226 1.67424741 1.24810034 1.23236524 1.79262739]\n",
      "  [1.81970048 1.63266156 1.73018157 1.21600554 1.24787835]\n",
      "  [1.45997558 1.6309011  1.88536175 1.74602599 1.40437874]]\n",
      "\n",
      " [[1.43467705 1.65209001 1.92625854 1.98359095 1.17607249]\n",
      "  [1.25513961 1.10318102 1.27039488 1.55184285 1.795399  ]\n",
      "  [1.27186132 1.51077519 1.75797655 1.82511416 1.98780916]]]\n",
      "\n",
      "[[[100.  75.  25.  25.  75.]\n",
      "  [ 75.  75.  75.  25.  25.]\n",
      "  [ 25.  75.  75.  75.  25.]]\n",
      "\n",
      " [[ 25.  75.  75.  75.  25.]\n",
      "  [ 25.   0.  25.  25.  75.]\n",
      "  [ 25.  25.  75.  75.  75.]]]\n"
     ]
    }
   ],
   "source": [
    "# your code here\n",
    "\n",
    "\n",
    "for index,value in np.ndenumerate(d):\n",
    "    if value > d_min and value < d_mean:\n",
    "        f[index] = 25\n",
    "    elif value > d_mean and value < d_max:\n",
    "        f[index] = 75\n",
    "    elif value == d_mean:\n",
    "        f[index] = 50\n",
    "    elif value == d_min:\n",
    "        f[index] = 0\n",
    "    elif value == d_max:\n",
    "        f[index] = 100\n",
    "\n",
    "        \n",
    "print(d)\n",
    "print()\n",
    "print(f)\n",
    "    \n",
    "    \n",
    " "
   ]
  },
  {
   "cell_type": "markdown",
   "metadata": {},
   "source": [
    "#### 17. Print *d* and *f*. Do you have your expected *f*?\n",
    "For instance, if your *d* is:\n",
    "```python\n",
    "[[[1.85836099, 1.67064465, 1.62576044, 1.40243961, 1.88454931],\n",
    "[1.75354326, 1.69403643, 1.36729252, 1.61415071, 1.12104981],\n",
    "[1.72201435, 1.1862918 , 1.87078449, 1.7726778 , 1.88180042]],\n",
    "[[1.44747908, 1.31673383, 1.02000951, 1.52218947, 1.97066381],\n",
    "[1.79129243, 1.74983003, 1.96028037, 1.85166831, 1.65450881],\n",
    "[1.18068344, 1.9587381 , 1.00656599, 1.93402165, 1.73514584]]]\n",
    "```\n",
    "Your *f* should be:\n",
    "```python\n",
    "[[[ 75.,  75.,  75.,  25.,  75.],\n",
    "[ 75.,  75.,  25.,  25.,  25.],\n",
    "[ 75.,  25.,  75.,  75.,  75.]],\n",
    "[[ 25.,  25.,  25.,  25., 100.],\n",
    "[ 75.,  75.,  75.,  75.,  75.],\n",
    "[ 25.,  75.,   0.,  75.,  75.]]]\n",
    "```"
   ]
  },
  {
   "cell_type": "code",
   "execution_count": 32,
   "metadata": {},
   "outputs": [
    {
     "name": "stdout",
     "output_type": "stream",
     "text": [
      "[[[100.  75.  25.  25.  75.]\n",
      "  [ 75.  75.  75.  25.  25.]\n",
      "  [ 25.  75.  75.  75.  25.]]\n",
      "\n",
      " [[ 25.  75.  75.  75.  25.]\n",
      "  [ 25.   0.  25.  25.  75.]\n",
      "  [ 25.  25.  75.  75.  75.]]]\n"
     ]
    }
   ],
   "source": [
    "# your code here\n",
    "print(f)\n",
    "\n",
    "\n"
   ]
  },
  {
   "cell_type": "markdown",
   "metadata": {},
   "source": [
    "#### 18. Bonus question: instead of using numbers (i.e. 0, 25, 50, 75, and 100), use string values  (\"A\", \"B\", \"C\", \"D\", and \"E\") to label the array elements. For the example above, the expected result is:\n",
    "\n",
    "```python\n",
    "[[[ 'D',  'D',  'D',  'B',  'D'],\n",
    "[ 'D',  'D',  'B',  'B',  'B'],\n",
    "[ 'D',  'B',  'D',  'D',  'D']],\n",
    "[[ 'B',  'B',  'B',  'B',  'E'],\n",
    "[ 'D',  'D',  'D',  'D',  'D'],\n",
    "[ 'B',  'D',   'A',  'D', 'D']]]\n",
    "```\n",
    "**Note**: you don't have to use Numpy in this question."
   ]
  },
  {
   "cell_type": "code",
   "execution_count": null,
   "metadata": {},
   "outputs": [],
   "source": [
    "# your code here"
   ]
  }
 ],
 "metadata": {
  "kernelspec": {
   "display_name": "Python [conda env:ironhack_env]",
   "language": "python",
   "name": "conda-env-ironhack_env-py"
  },
  "language_info": {
   "codemirror_mode": {
    "name": "ipython",
    "version": 3
   },
   "file_extension": ".py",
   "mimetype": "text/x-python",
   "name": "python",
   "nbconvert_exporter": "python",
   "pygments_lexer": "ipython3",
   "version": "3.8.2"
  }
 },
 "nbformat": 4,
 "nbformat_minor": 4
}
